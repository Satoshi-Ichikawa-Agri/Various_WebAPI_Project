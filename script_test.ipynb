{
 "cells": [
  {
   "cell_type": "code",
   "execution_count": 1,
   "id": "c09cb0d9-a6a3-4834-8664-c93e3b29dd21",
   "metadata": {},
   "outputs": [],
   "source": [
    "from selenium import webdriver # Selenium Web自動操作\n",
    "from selenium.webdriver.common.by import By # HTML要素の検索\n",
    "\n",
    "from public_gym_search.const import Const"
   ]
  },
  {
   "cell_type": "code",
   "execution_count": 3,
   "id": "0ac86215-5638-4106-9e83-806068011979",
   "metadata": {},
   "outputs": [],
   "source": [
    "driver = webdriver.Chrome()\n",
    "driver.get(Const.GYM_SITE_URL)"
   ]
  },
  {
   "cell_type": "code",
   "execution_count": 4,
   "id": "3db2abe4-7aa3-4e6b-9558-5cb2fd9354ba",
   "metadata": {},
   "outputs": [],
   "source": [
    "target_elem_is_prefmap = driver.find_element(By.CLASS_NAME, 'mod_prefmap_srch')"
   ]
  },
  {
   "cell_type": "code",
   "execution_count": 6,
   "id": "f7f57f98-c757-4f4f-bd83-ef87605db7f7",
   "metadata": {},
   "outputs": [
    {
     "data": {
      "text/plain": [
       "'都道府県からスポーツ施設を検索できます。\\n全国のスポーツ施設一覧\\n北海道\\n北海道\\n東北\\n青 森\\n岩 手\\n秋 田\\n宮 城\\n山 形\\n福 島\\n甲信越\\n新 潟\\n長 野\\n山 梨\\n関東\\n東 京\\n神奈川\\n埼 玉\\n千 葉\\n茨 城\\n栃 木\\n群 馬\\n東海\\n愛 知\\n岐 阜\\n静 岡\\n三 重\\n北陸\\n富 山\\n石 川\\n福 井\\n関西\\n大 阪\\n兵 庫\\n京 都\\n滋 賀\\n奈 良\\n和歌山\\n中国\\n鳥 取\\n島 根\\n岡 山\\n広 島\\n山 口\\n四国\\n徳 島\\n香 川\\n愛 媛\\n高 知\\n九州・沖縄\\n福 岡\\n佐 賀\\n長 崎\\n熊 本\\n大 分\\n宮 崎\\n鹿児島\\n沖 縄'"
      ]
     },
     "execution_count": 6,
     "metadata": {},
     "output_type": "execute_result"
    }
   ],
   "source": [
    "target_elem_is_prefmap.text"
   ]
  },
  {
   "cell_type": "code",
   "execution_count": 7,
   "id": "f2f8e3dd-bb69-442e-9014-34a338509729",
   "metadata": {},
   "outputs": [],
   "source": [
    "target_elem_is_prefmap = target_elem_is_prefmap.text.split('\\n')"
   ]
  },
  {
   "cell_type": "code",
   "execution_count": 13,
   "id": "7cebfe04-0979-41f7-8830-016e4d8b4405",
   "metadata": {
    "collapsed": true,
    "jupyter": {
     "outputs_hidden": true
    },
    "scrolled": true
   },
   "outputs": [],
   "source": [
    "target_elem_is_prefmap = set(target_elem_is_prefmap)"
   ]
  },
  {
   "cell_type": "code",
   "execution_count": 14,
   "id": "bd6449a9-b564-4a84-9741-ce8bc3f12daa",
   "metadata": {
    "scrolled": true
   },
   "outputs": [
    {
     "data": {
      "text/plain": [
       "{'三 重',\n",
       " '中国',\n",
       " '九州・沖縄',\n",
       " '京 都',\n",
       " '佐 賀',\n",
       " '全国のスポーツ施設一覧',\n",
       " '兵 庫',\n",
       " '北海道',\n",
       " '北陸',\n",
       " '千 葉',\n",
       " '和歌山',\n",
       " '四国',\n",
       " '埼 玉',\n",
       " '大 分',\n",
       " '大 阪',\n",
       " '奈 良',\n",
       " '宮 城',\n",
       " '宮 崎',\n",
       " '富 山',\n",
       " '山 口',\n",
       " '山 形',\n",
       " '山 梨',\n",
       " '岐 阜',\n",
       " '岡 山',\n",
       " '岩 手',\n",
       " '島 根',\n",
       " '広 島',\n",
       " '徳 島',\n",
       " '愛 媛',\n",
       " '愛 知',\n",
       " '新 潟',\n",
       " '東 京',\n",
       " '東北',\n",
       " '東海',\n",
       " '栃 木',\n",
       " '沖 縄',\n",
       " '滋 賀',\n",
       " '熊 本',\n",
       " '甲信越',\n",
       " '石 川',\n",
       " '神奈川',\n",
       " '福 井',\n",
       " '福 岡',\n",
       " '福 島',\n",
       " '秋 田',\n",
       " '群 馬',\n",
       " '茨 城',\n",
       " '都道府県からスポーツ施設を検索できます。',\n",
       " '長 崎',\n",
       " '長 野',\n",
       " '関東',\n",
       " '関西',\n",
       " '青 森',\n",
       " '静 岡',\n",
       " '香 川',\n",
       " '高 知',\n",
       " '鳥 取',\n",
       " '鹿児島'}"
      ]
     },
     "execution_count": 14,
     "metadata": {},
     "output_type": "execute_result"
    }
   ],
   "source": [
    "target_elem_is_prefmap"
   ]
  },
  {
   "cell_type": "code",
   "execution_count": 15,
   "id": "1dde0c9c-3a5c-4d5f-8a6a-74e09631192c",
   "metadata": {},
   "outputs": [],
   "source": [
    "for item in target_elem_is_prefmap:\n",
    "    if item == '埼 玉':\n",
    "        target_elem = item\n",
    "        break\n",
    "    else:\n",
    "        continue\n",
    "\n",
    "target_link = driver.find_element(By.LINK_TEXT, target_elem)"
   ]
  },
  {
   "cell_type": "code",
   "execution_count": 16,
   "id": "b7f08892-b0d1-4964-9cf6-3c2381f7b5d1",
   "metadata": {},
   "outputs": [
    {
     "data": {
      "text/plain": [
       "'埼 玉'"
      ]
     },
     "execution_count": 16,
     "metadata": {},
     "output_type": "execute_result"
    }
   ],
   "source": [
    "target_elem"
   ]
  },
  {
   "cell_type": "code",
   "execution_count": 18,
   "id": "008c14f8-fe20-4378-abc2-87562bffed50",
   "metadata": {},
   "outputs": [
    {
     "data": {
      "text/plain": [
       "'埼 玉'"
      ]
     },
     "execution_count": 18,
     "metadata": {},
     "output_type": "execute_result"
    }
   ],
   "source": [
    "target_link.text"
   ]
  },
  {
   "cell_type": "code",
   "execution_count": 19,
   "id": "ae678b87-d5b1-4363-a3a8-24e7e3bf7030",
   "metadata": {},
   "outputs": [],
   "source": [
    "driver.execute_script('arguments[0].click();', target_link)"
   ]
  },
  {
   "cell_type": "markdown",
   "id": "859ef90b-72ae-497d-9589-2b842b502229",
   "metadata": {},
   "source": [
    "### ページ移動　埼玉のページ"
   ]
  },
  {
   "cell_type": "code",
   "execution_count": null,
   "id": "2711fecd-fe74-4bcf-96b7-2ddbc31812e9",
   "metadata": {},
   "outputs": [],
   "source": []
  }
 ],
 "metadata": {
  "kernelspec": {
   "display_name": "Python 3 (ipykernel)",
   "language": "python",
   "name": "python3"
  },
  "language_info": {
   "codemirror_mode": {
    "name": "ipython",
    "version": 3
   },
   "file_extension": ".py",
   "mimetype": "text/x-python",
   "name": "python",
   "nbconvert_exporter": "python",
   "pygments_lexer": "ipython3",
   "version": "3.11.2"
  }
 },
 "nbformat": 4,
 "nbformat_minor": 5
}
